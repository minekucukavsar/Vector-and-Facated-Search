{
 "cells": [
  {
   "cell_type": "code",
   "execution_count": null,
   "id": "3c3cf6d0-b71a-4b82-b533-1fc0883fe16e",
   "metadata": {},
   "outputs": [],
   "source": [
    "#python version check/Python 3.11.7\n",
    "! python --version"
   ]
  },
  {
   "cell_type": "code",
   "execution_count": null,
   "id": "f4f63c7b-3007-47b0-b882-3e22773e254c",
   "metadata": {},
   "outputs": [],
   "source": [
    "pip install duckdb redis sentence-transformers"
   ]
  },
  {
   "cell_type": "code",
   "execution_count": 56,
   "id": "d973c3b6-617c-4b6a-8494-8cd4ec6d72a5",
   "metadata": {},
   "outputs": [],
   "source": [
    "#importing libraries\n",
    "import random\n",
    "import numpy as np\n",
    "import pandas as pd\n",
    "import duckdb\n",
    "import redis\n",
    "from sentence_transformers import SentenceTransformer\n",
    "import pytest\n",
    "from faker import Faker\n",
    "import time\n",
    "import string\n",
    "import pickle\n",
    "import base64\n",
    "from memory_profiler import memory_usage\n",
    "import memory_profiler\n",
    "from concurrent.futures import ThreadPoolExecutor\n",
    "#from sklearn.metrics.pairwise import cosine_similarity\n",
    "from tqdm import tqdm \n",
    "from numpy import dot\n",
    "from numpy.linalg import norm\n",
    "import matplotlib.pyplot as plt\n",
    "from sklearn.metrics.pairwise import cosine_similarity\n",
    "import pickle"
   ]
  },
  {
   "cell_type": "code",
   "execution_count": 60,
   "id": "b6b17356-9625-4e72-9a47-96eaf3211ffe",
   "metadata": {},
   "outputs": [],
   "source": [
    "import warnings"
   ]
  },
  {
   "cell_type": "code",
   "execution_count": 62,
   "id": "f988a357-1b2f-43dc-8b29-c261ec10138b",
   "metadata": {},
   "outputs": [],
   "source": [
    "warnings.filterwarnings('ignore')"
   ]
  },
  {
   "cell_type": "code",
   "execution_count": 12,
   "id": "d29640f1-9496-4538-b20c-a54e3225132b",
   "metadata": {},
   "outputs": [],
   "source": [
    "model = SentenceTransformer('all-MiniLM-L6-v2')\n",
    "# \"all-MiniLM-L6-v2\" is a pre-trained model for (Selected because it is good for general usage and fast)"
   ]
  },
  {
   "cell_type": "code",
   "execution_count": 24,
   "id": "b26bd00d-5be4-4e2c-9ab2-e85b8d1e6047",
   "metadata": {},
   "outputs": [],
   "source": [
    "def generate_embeddings_in_batches(data, batch_size=100, column_name=\"Description\"):\n",
    "#batch_size=100 is a balanced default.\n",
    "    all_embeddings = []\n",
    "    \n",
    "    # Loop through the dataset in batches with a progress bar\n",
    "    for i in tqdm(range(0, len(data), batch_size), desc=\"Processing batches\"):\n",
    "        batch = data.iloc[i:i+batch_size]  \n",
    "        descriptions = batch[column_name].tolist()  \n",
    "        \n",
    "         # Generate embeddings for the batch\n",
    "        batch_embeddings = model.encode(descriptions, show_progress_bar=False)\n",
    "        all_embeddings.extend(batch_embeddings)\n",
    "    \n",
    "    data['Embedding'] = [embedding.tolist() for embedding in all_embeddings]\n",
    "    \n",
    "    return data\n"
   ]
  },
  {
   "cell_type": "code",
   "execution_count": 26,
   "id": "ce9ad395-c8ef-475c-afc8-3e9e70e950a7",
   "metadata": {},
   "outputs": [],
   "source": [
    "# Creating Product Description\n",
    "def generate_description():\n",
    "    adjectives = [\"Amazing\", \"Comprehensive\", \"Detailed\", \"Unique\", \"Classic\"]\n",
    "    genres = [\"fiction\", \"non-fiction\", \"science\", \"history\", \"fantasy\"]\n",
    "    audience = [\"adults\", \"kids\", \"teens\", \"everyone\"]\n",
    "    return f\"{random.choice(adjectives)} {random.choice(genres)} book for {random.choice(audience)}.\""
   ]
  },
  {
   "cell_type": "code",
   "execution_count": 28,
   "id": "c2dd1ee2-d983-43fd-b440-94293b365a90",
   "metadata": {},
   "outputs": [],
   "source": [
    "# Creating Product Name\n",
    "def generate_product_name():\n",
    "    adjectives = [\"Brilliant\", \"Mysterious\", \"Wonderful\", \"Enigmatic\", \"Classic\", \"Charming\", \"Unforgettable\"]\n",
    "    nouns = [\"Journey\", \"Adventure\", \"Tale\", \"Story\", \"Chronicles\", \"Saga\", \"Quest\"]\n",
    "    conjunctions = [\"of\", \"and\", \"in\", \"for\"]\n",
    "    name = f\"{random.choice(adjectives)} {random.choice(nouns)} {random.choice(conjunctions)} {random.choice(adjectives)} {random.choice(nouns)}\"\n",
    "    return name"
   ]
  },
  {
   "cell_type": "code",
   "execution_count": 32,
   "id": "5cb5a6fc-60d3-4916-9aab-f84bce54c5e8",
   "metadata": {},
   "outputs": [],
   "source": [
    "def generate_dataset(num_records=100000):\n",
    "    data = []\n",
    "    for i in range(num_records):\n",
    "        product_id = f\"{i+1:06d}\"  \n",
    "        product_name = generate_product_name() \n",
    "        category = \"Books\" # Only selected Books category. Actually, this is only a column for the category, which is not necessary. I would not drop from \"df\".\n",
    "        price = random.randint(5, 200)  \n",
    "        description = generate_description() \n",
    "        \n",
    "        data.append({\n",
    "            \"Product_ID\": product_id,\n",
    "            \"Product_Name\": product_name,\n",
    "            \"Category\": category,\n",
    "            \"Price\": price,\n",
    "            \"Description\": description\n",
    "        })\n",
    "    \n",
    "    return pd.DataFrame(data)"
   ]
  },
  {
   "cell_type": "code",
   "execution_count": 34,
   "id": "9f0177b5-c756-4d30-84d6-1144bd91d72a",
   "metadata": {},
   "outputs": [],
   "source": [
    "# Generating Dataset (100.000 rows)\n",
    "df = generate_dataset(num_records=100000)"
   ]
  },
  {
   "cell_type": "code",
   "execution_count": 36,
   "id": "092ed70b-499b-4be7-bca1-c1028259af6d",
   "metadata": {},
   "outputs": [
    {
     "name": "stderr",
     "output_type": "stream",
     "text": [
      "Processing batches: 100%|██████████| 200/200 [10:27<00:00,  3.14s/it]\n"
     ]
    }
   ],
   "source": [
    "#Generating Embeddings with batch\n",
    "df_with_embeddings = generate_embeddings_in_batches(df, batch_size=500)\n",
    "\n",
    "# Save the dataset as CSV, if necessary.\n",
    "#df_with_embeddings.to_csv(\"products_with_embeddings.csv\", index=False)"
   ]
  },
  {
   "cell_type": "code",
   "execution_count": 38,
   "id": "7b0bf77d-1afa-4c77-bb7e-dfb05435d836",
   "metadata": {},
   "outputs": [],
   "source": [
    "df=df_with_embeddings.copy()"
   ]
  },
  {
   "cell_type": "code",
   "execution_count": 40,
   "id": "56752c2e-3f93-4535-aab4-6f5c14ff3984",
   "metadata": {},
   "outputs": [
    {
     "data": {
      "text/html": [
       "<div>\n",
       "<style scoped>\n",
       "    .dataframe tbody tr th:only-of-type {\n",
       "        vertical-align: middle;\n",
       "    }\n",
       "\n",
       "    .dataframe tbody tr th {\n",
       "        vertical-align: top;\n",
       "    }\n",
       "\n",
       "    .dataframe thead th {\n",
       "        text-align: right;\n",
       "    }\n",
       "</style>\n",
       "<table border=\"1\" class=\"dataframe\">\n",
       "  <thead>\n",
       "    <tr style=\"text-align: right;\">\n",
       "      <th></th>\n",
       "      <th>Product_ID</th>\n",
       "      <th>Product_Name</th>\n",
       "      <th>Category</th>\n",
       "      <th>Price</th>\n",
       "      <th>Description</th>\n",
       "      <th>Embedding</th>\n",
       "    </tr>\n",
       "  </thead>\n",
       "  <tbody>\n",
       "    <tr>\n",
       "      <th>0</th>\n",
       "      <td>000001</td>\n",
       "      <td>Wonderful Tale and Unforgettable Story</td>\n",
       "      <td>Books</td>\n",
       "      <td>127</td>\n",
       "      <td>Classic fiction book for everyone.</td>\n",
       "      <td>[-0.008416999131441116, 0.03524068370461464, 0...</td>\n",
       "    </tr>\n",
       "    <tr>\n",
       "      <th>1</th>\n",
       "      <td>000002</td>\n",
       "      <td>Unforgettable Journey for Mysterious Saga</td>\n",
       "      <td>Books</td>\n",
       "      <td>166</td>\n",
       "      <td>Comprehensive history book for adults.</td>\n",
       "      <td>[-0.007291584275662899, 0.02718379721045494, 0...</td>\n",
       "    </tr>\n",
       "    <tr>\n",
       "      <th>2</th>\n",
       "      <td>000003</td>\n",
       "      <td>Mysterious Story of Classic Adventure</td>\n",
       "      <td>Books</td>\n",
       "      <td>171</td>\n",
       "      <td>Detailed fantasy book for everyone.</td>\n",
       "      <td>[-0.016391141340136528, 0.02698318101465702, 0...</td>\n",
       "    </tr>\n",
       "    <tr>\n",
       "      <th>3</th>\n",
       "      <td>000004</td>\n",
       "      <td>Wonderful Quest for Unforgettable Saga</td>\n",
       "      <td>Books</td>\n",
       "      <td>7</td>\n",
       "      <td>Amazing fantasy book for adults.</td>\n",
       "      <td>[0.025390397757291794, 0.027749400585889816, 0...</td>\n",
       "    </tr>\n",
       "    <tr>\n",
       "      <th>4</th>\n",
       "      <td>000005</td>\n",
       "      <td>Wonderful Journey for Brilliant Chronicles</td>\n",
       "      <td>Books</td>\n",
       "      <td>150</td>\n",
       "      <td>Comprehensive non-fiction book for kids.</td>\n",
       "      <td>[-0.0216752290725708, -0.017193501815199852, 0...</td>\n",
       "    </tr>\n",
       "  </tbody>\n",
       "</table>\n",
       "</div>"
      ],
      "text/plain": [
       "  Product_ID                                Product_Name Category  Price  \\\n",
       "0     000001      Wonderful Tale and Unforgettable Story    Books    127   \n",
       "1     000002   Unforgettable Journey for Mysterious Saga    Books    166   \n",
       "2     000003       Mysterious Story of Classic Adventure    Books    171   \n",
       "3     000004      Wonderful Quest for Unforgettable Saga    Books      7   \n",
       "4     000005  Wonderful Journey for Brilliant Chronicles    Books    150   \n",
       "\n",
       "                                Description  \\\n",
       "0        Classic fiction book for everyone.   \n",
       "1    Comprehensive history book for adults.   \n",
       "2       Detailed fantasy book for everyone.   \n",
       "3          Amazing fantasy book for adults.   \n",
       "4  Comprehensive non-fiction book for kids.   \n",
       "\n",
       "                                           Embedding  \n",
       "0  [-0.008416999131441116, 0.03524068370461464, 0...  \n",
       "1  [-0.007291584275662899, 0.02718379721045494, 0...  \n",
       "2  [-0.016391141340136528, 0.02698318101465702, 0...  \n",
       "3  [0.025390397757291794, 0.027749400585889816, 0...  \n",
       "4  [-0.0216752290725708, -0.017193501815199852, 0...  "
      ]
     },
     "execution_count": 40,
     "metadata": {},
     "output_type": "execute_result"
    }
   ],
   "source": [
    "df.head()"
   ]
  },
  {
   "cell_type": "code",
   "execution_count": 44,
   "id": "ccfd3dbf-8a10-4930-be74-22240921408f",
   "metadata": {},
   "outputs": [
    {
     "data": {
      "text/plain": [
       "(100000, 6)"
      ]
     },
     "execution_count": 44,
     "metadata": {},
     "output_type": "execute_result"
    }
   ],
   "source": [
    "df.shape"
   ]
  },
  {
   "cell_type": "code",
   "execution_count": null,
   "id": "30767930-2720-452f-8c76-f037afb54f84",
   "metadata": {},
   "outputs": [],
   "source": [
    "# Creting table with DuckDB. Table used for filtering. "
   ]
  },
  {
   "cell_type": "code",
   "execution_count": 46,
   "id": "f34358a3-f772-455c-9019-61bd51e92394",
   "metadata": {},
   "outputs": [],
   "source": [
    "# DuckDB Connection\n",
    "conn = duckdb.connect()"
   ]
  },
  {
   "cell_type": "code",
   "execution_count": 48,
   "id": "0d72adc8-410c-49db-bf3d-7db278f20c63",
   "metadata": {
    "scrolled": true
   },
   "outputs": [
    {
     "data": {
      "text/plain": [
       "<duckdb.duckdb.DuckDBPyConnection at 0x2384ed37030>"
      ]
     },
     "execution_count": 48,
     "metadata": {},
     "output_type": "execute_result"
    }
   ],
   "source": [
    "# For storing Vectors table created.\n",
    "conn.execute(\"\"\"\n",
    "    CREATE TABLE Products_V1 (\n",
    "        Product_ID INTEGER PRIMARY KEY,\n",
    "        Product_Name VARCHAR,\n",
    "        Category VARCHAR,\n",
    "        Price FLOAT,\n",
    "        Description TEXT,\n",
    "        product_vector BLOB \n",
    "    )\n",
    "\"\"\")"
   ]
  },
  {
   "cell_type": "code",
   "execution_count": 50,
   "id": "be0cefd5-c71d-4c21-b701-18de3e718036",
   "metadata": {
    "scrolled": true
   },
   "outputs": [],
   "source": [
    "#adding each vector to the DB.\n",
    "for index, row in df.iterrows():\n",
    "    vector_blob = pickle.dumps(row['Embedding']) \n",
    "    conn.execute(\"\"\"\n",
    "        INSERT INTO Products_V1 (Product_ID, Product_Name, Category, Price, Description, product_vector)\n",
    "        VALUES (?, ?, ?, ?, ?, ?)\n",
    "    \"\"\", (row['Product_ID'], row['Product_Name'], row['Category'], row['Price'], row['Description'], vector_blob))"
   ]
  },
  {
   "cell_type": "code",
   "execution_count": 52,
   "id": "9675c4b5-b3da-413e-9775-7c435dfaf09f",
   "metadata": {},
   "outputs": [],
   "source": [
    "# \"Cosine Similarity\" function.\n",
    "def cosine_similarity(v1, v2):\n",
    "    return dot(v1, v2) / (norm(v1) * norm(v2))"
   ]
  },
  {
   "cell_type": "code",
   "execution_count": 57,
   "id": "8414c0c0-63d2-4371-915f-5e5040224298",
   "metadata": {},
   "outputs": [
    {
     "data": {
      "application/vnd.jupyter.widget-view+json": {
       "model_id": "36324bf7207242cc93f39b149b1b7bf4",
       "version_major": 2,
       "version_minor": 0
      },
      "text/plain": [
       "FloatProgress(value=0.0, layout=Layout(width='auto'), style=ProgressStyle(bar_color='black'))"
      ]
     },
     "metadata": {},
     "output_type": "display_data"
    }
   ],
   "source": [
    "# Selecting product data from DB.\n",
    "results = conn.execute(\"SELECT Product_ID, Product_Name, Price, Description, product_vector FROM Products_V1\").fetchall()\n",
    "similarities=[]\n",
    "\n",
    "query_vector = np.random.rand(384)\n",
    "\n",
    "for row in results:\n",
    "    product_vector = np.array(pickle.loads(row[4]))  # (5.column: product_vector)\n",
    "    \n",
    "    \n",
    "    query_vector_2d = query_vector.reshape(1, -1)\n",
    "    product_vector_2d = product_vector.reshape(1, -1)\n",
    "    \n",
    "    # Using \"Cosine Similarity\" function: from sklearn.metrics.pairwise import cosine_similarity\n",
    "    similarity = cosine_similarity(query_vector_2d, product_vector_2d)\n",
    "    \n",
    "    # Adding all columns and similarity score.\n",
    "    similarities.append({\n",
    "        \"Product_ID\": row[0],       \n",
    "        \"Product_Name\": row[1],     \n",
    "        \"Product_Description\": row[2], \n",
    "        \"Product_Price\": row[3],        \n",
    "        \"Similarity\": similarity[0][0]  \n",
    "    })\n",
    "\n"
   ]
  },
  {
   "cell_type": "code",
   "execution_count": null,
   "id": "d6d95830-649b-4026-b527-1533b003d63e",
   "metadata": {},
   "outputs": [],
   "source": [
    "#warnings.filterwarnings(\"ignore\", message=\"Failed to load model class 'FloatProgressModel'\")"
   ]
  },
  {
   "cell_type": "code",
   "execution_count": 64,
   "id": "b1d475f8-326e-40e6-a707-bdfe31354f50",
   "metadata": {},
   "outputs": [
    {
     "name": "stdout",
     "output_type": "stream",
     "text": [
      "{'Product_ID': 13676, 'Product_Name': 'Unforgettable Tale and Wonderful Adventure', 'Product_Description': 178.0, 'Product_Price': 'Classic fantasy book for kids.', 'Similarity': 0.04406056519493465}\n",
      "{'Product_ID': 43700, 'Product_Name': 'Brilliant Chronicles and Unforgettable Saga', 'Product_Description': 7.0, 'Product_Price': 'Classic fantasy book for kids.', 'Similarity': 0.04406056519493465}\n",
      "{'Product_ID': 88721, 'Product_Name': 'Classic Saga for Wonderful Story', 'Product_Description': 53.0, 'Product_Price': 'Classic fantasy book for kids.', 'Similarity': 0.04406056519493465}\n",
      "{'Product_ID': 37, 'Product_Name': 'Wonderful Adventure of Charming Quest', 'Product_Description': 23.0, 'Product_Price': 'Classic fantasy book for kids.', 'Similarity': 0.04406055211086256}\n",
      "{'Product_ID': 68, 'Product_Name': 'Enigmatic Adventure and Wonderful Adventure', 'Product_Description': 94.0, 'Product_Price': 'Classic fantasy book for kids.', 'Similarity': 0.04406055211086256}\n",
      "{'Product_ID': 211, 'Product_Name': 'Brilliant Story and Wonderful Tale', 'Product_Description': 54.0, 'Product_Price': 'Classic fantasy book for kids.', 'Similarity': 0.04406055211086256}\n",
      "{'Product_ID': 287, 'Product_Name': 'Classic Adventure for Wonderful Story', 'Product_Description': 49.0, 'Product_Price': 'Classic fantasy book for kids.', 'Similarity': 0.04406055211086256}\n",
      "{'Product_ID': 376, 'Product_Name': 'Wonderful Quest for Wonderful Quest', 'Product_Description': 10.0, 'Product_Price': 'Classic fantasy book for kids.', 'Similarity': 0.04406055211086256}\n",
      "{'Product_ID': 500, 'Product_Name': 'Unforgettable Quest and Mysterious Chronicles', 'Product_Description': 127.0, 'Product_Price': 'Classic fantasy book for kids.', 'Similarity': 0.04406055211086256}\n",
      "{'Product_ID': 584, 'Product_Name': 'Charming Saga in Classic Adventure', 'Product_Description': 192.0, 'Product_Price': 'Classic fantasy book for kids.', 'Similarity': 0.04406055211086256}\n"
     ]
    }
   ],
   "source": [
    "# Ordering with similarty scores(desc).\n",
    "sorted_similarities = sorted(similarities, key=lambda x: x[\"Similarity\"], reverse=True)\n",
    "\n",
    "# Top 10 Similar Products\n",
    "top_10_similar_products = sorted_similarities[:10]\n",
    "\n",
    "# Print Top 10 Similar Products\n",
    "for product in top_10_similar_products:\n",
    "    print(product)"
   ]
  },
  {
   "cell_type": "code",
   "execution_count": 66,
   "id": "51e5503e-ec1d-49f8-bc2e-1fe89b40a345",
   "metadata": {},
   "outputs": [
    {
     "data": {
      "text/plain": [
       "[('Product_ID', 'INTEGER', 'NO', 'PRI', None, None),\n",
       " ('Product_Name', 'VARCHAR', 'YES', None, None, None),\n",
       " ('Category', 'VARCHAR', 'YES', None, None, None),\n",
       " ('Price', 'FLOAT', 'YES', None, None, None),\n",
       " ('Description', 'VARCHAR', 'YES', None, None, None),\n",
       " ('product_vector', 'BLOB', 'YES', None, None, None)]"
      ]
     },
     "execution_count": 66,
     "metadata": {},
     "output_type": "execute_result"
    }
   ],
   "source": [
    "# Checking table \n",
    "conn.execute(\"DESCRIBE Products_V1\").fetchall()"
   ]
  },
  {
   "cell_type": "code",
   "execution_count": null,
   "id": "ab16dea3-2fdc-40ea-adbb-8957f6385fbd",
   "metadata": {},
   "outputs": [],
   "source": [
    "# manual process for adding indexes and deleting. Before converting to the function all the things.\n",
    "\n",
    "#conn = duckdb.connect('ProductsV1.db')  \n",
    "\n",
    "# creating index\n",
    "conn.execute(\"CREATE INDEX idx_Product_Name ON Products1(Product_Name)\")\n",
    "conn.execute(\"CREATE INDEX idx_Price ON Products1(Price)\")\n",
    "conn.execute(\"CREATE INDEX idx_Description ON Products1(Description)\")\n",
    "\n",
    "# index control\n",
    "indexes = conn.execute(\"SHOW pg_indexes;\").fetchall()\n",
    "\n",
    "print(indexes)\n",
    "\n",
    "conn.execute(\"DROP INDEX IF EXISTS idx_Product_Name\")\n",
    "conn.execute(\"DROP INDEX IF EXISTS idx_Price\")\n",
    "conn.execute(\"DROP INDEX IF EXISTS idx_Description\")\n",
    "\n",
    "\n",
    "# closing the connection.\n",
    "#conn.close()"
   ]
  },
  {
   "cell_type": "code",
   "execution_count": 86,
   "id": "1f1e74cc-aa39-4cc8-98c0-b6e31daadf54",
   "metadata": {},
   "outputs": [
    {
     "data": {
      "text/plain": [
       "[('Product_ID', 'INTEGER', 'NO', 'PRI', None, None),\n",
       " ('Product_Name', 'VARCHAR', 'YES', None, None, None),\n",
       " ('Category', 'VARCHAR', 'YES', None, None, None),\n",
       " ('Price', 'FLOAT', 'YES', None, None, None),\n",
       " ('Description', 'VARCHAR', 'YES', None, None, None),\n",
       " ('product_vector', 'BLOB', 'YES', None, None, None)]"
      ]
     },
     "execution_count": 86,
     "metadata": {},
     "output_type": "execute_result"
    }
   ],
   "source": [
    "# Checking table \n",
    "conn.execute(\"DESCRIBE Products_V1\").fetchall()"
   ]
  },
  {
   "cell_type": "code",
   "execution_count": 98,
   "id": "dc2379ad-2d56-4c53-93d5-0d0630bb347d",
   "metadata": {},
   "outputs": [],
   "source": [
    "# Function for testing performance\n",
    "def benchmark_query_latency_and_memory(conn, query, query_vector):\n",
    "    # Memory usage before query\n",
    "    start_mem = memory_profiler.memory_usage()[0]\n",
    "    \n",
    "    start_time = time.time()\n",
    "    \n",
    "    results = conn.execute(query).fetchall()\n",
    "    \n",
    "    end_time = time.time()\n",
    "    \n",
    "    # Memory usage after query\n",
    "    end_mem = memory_profiler.memory_usage()[0]\n",
    "    \n",
    "    # Cosine similarity \n",
    "    similarities = []\n",
    "    for row in results:\n",
    "        product_vector = np.array(pickle.loads(row[4]))  # (column 5: product_vector)\n",
    "        similarity = cosine_similarity(query_vector, product_vector)\n",
    "        similarities.append({\n",
    "            \"Product_ID\": row[0],\n",
    "            \"Product_Name\": row[1],\n",
    "            \"Price\": row[2],\n",
    "            \"Description\": row[3],\n",
    "            \"Similarity\": similarity\n",
    "        })\n",
    "    \n",
    "    query_latency = end_time - start_time\n",
    "    memory_usage = end_mem - start_mem\n",
    "\n",
    "    return query_latency, memory_usage, similarities\n",
    "\n",
    "# time spend for indexing\n",
    "def benchmark_index_creation(conn):\n",
    "    start_time = time.time()\n",
    "    \n",
    "\n",
    "    conn.execute(\"CREATE INDEX idx_Product_Name ON Products_V1(Product_Name)\")\n",
    "    conn.execute(\"CREATE INDEX idx_Price ON Products_V1(Price)\")\n",
    "    conn.execute(\"CREATE INDEX idx_Description ON Products_V1(Description)\")\n",
    "    \n",
    "    end_time = time.time()\n",
    "    index_build_time = end_time - start_time\n",
    "    \n",
    "    return index_build_time\n"
   ]
  },
  {
   "cell_type": "code",
   "execution_count": 102,
   "id": "2ba58aed-f5b3-4365-9704-09417615594b",
   "metadata": {},
   "outputs": [],
   "source": [
    "def run_performance_tests():\n",
    "  \n",
    "    conn = duckdb.connect('Products_V1.db')  \n",
    "\n",
    "    conn.execute(\"DROP INDEX IF EXISTS idx_Product_Name\")\n",
    "    conn.execute(\"DROP INDEX IF EXISTS idx_Price\")\n",
    "    conn.execute(\"DROP INDEX IF EXISTS idx_Description\")\n",
    "    \n",
    "    # for calculate Cosine similarity\n",
    "    query = \"SELECT Product_ID, Product_Name, Price, Description, product_vector FROM Products_V1 LIMIT 100\"\n",
    "    query_vector = np.random.rand(384)  \n",
    "\n",
    "\n",
    "    print(\"=== Before Index Creation ===\")\n",
    "    before_index_query_latency, before_index_memory_usage, before_index_similarities = benchmark_query_latency_and_memory(conn, query, query_vector)\n",
    "    print(f\"Query Latency: {before_index_query_latency:.4f} seconds\")\n",
    "    print(f\"Memory Usage: {before_index_memory_usage:.4f} MB\")\n",
    "\n",
    "    # ** index Build Time Test**\n",
    "    index_build_time = benchmark_index_creation(conn)\n",
    "    print(f\"Index Build Time: {index_build_time:.4f} seconds\")\n",
    "    \n",
    "    \n",
    "    print(\"\\n=== After Index Creation ===\")\n",
    "    after_index_query_latency, after_index_memory_usage, after_index_similarities = benchmark_query_latency_and_memory(conn, query, query_vector)\n",
    "    print(f\"Query Latency: {after_index_query_latency:.4f} seconds\")\n",
    "    print(f\"Memory Usage: {after_index_memory_usage:.4f} MB\")\n",
    "    \n",
    "\n",
    "    print(\"\\n=== Performance Comparison ===\")\n",
    "    print(f\"Before Index Query Latency: {before_index_query_latency:.4f} seconds\")\n",
    "    print(f\"After Index Query Latency: {after_index_query_latency:.4f} seconds\")\n",
    "    print(f\"Improvement in Query Latency: {before_index_query_latency - after_index_query_latency:.4f} seconds\")\n",
    "    \n",
    "    print(f\"Before Index Memory Usage: {before_index_memory_usage:.4f} MB\")\n",
    "    print(f\"After Index Memory Usage: {after_index_memory_usage:.4f} MB\")\n",
    "    print(f\"Improvement in Memory Usage: {before_index_memory_usage - after_index_memory_usage:.4f} MB\")\n",
    "      \n",
    "    conn.close()"
   ]
  },
  {
   "cell_type": "code",
   "execution_count": 88,
   "id": "e14f6d48-df33-4eb8-bb83-edc8a030e19b",
   "metadata": {},
   "outputs": [
    {
     "data": {
      "text/plain": [
       "<duckdb.duckdb.DuckDBPyConnection at 0x2384ed37030>"
      ]
     },
     "execution_count": 88,
     "metadata": {},
     "output_type": "execute_result"
    }
   ],
   "source": [
    "conn"
   ]
  },
  {
   "cell_type": "code",
   "execution_count": 104,
   "id": "b2327d02-edb8-486d-b8ee-a521526c8052",
   "metadata": {},
   "outputs": [
    {
     "name": "stdout",
     "output_type": "stream",
     "text": [
      "=== Before Index Creation ===\n",
      "Query Latency: 0.0229 seconds\n",
      "Memory Usage: 0.6602 MB\n",
      "Index Build Time: 0.0535 seconds\n",
      "\n",
      "=== After Index Creation ===\n",
      "Query Latency: 0.0076 seconds\n",
      "Memory Usage: 0.1758 MB\n",
      "\n",
      "=== Performance Comparison ===\n",
      "Before Index Query Latency: 0.0229 seconds\n",
      "After Index Query Latency: 0.0076 seconds\n",
      "Improvement in Query Latency: 0.0153 seconds\n",
      "Before Index Memory Usage: 0.6602 MB\n",
      "After Index Memory Usage: 0.1758 MB\n",
      "Improvement in Memory Usage: 0.4844 MB\n"
     ]
    }
   ],
   "source": [
    "# call the function\n",
    "run_performance_tests()"
   ]
  },
  {
   "cell_type": "code",
   "execution_count": 56,
   "id": "af30e3a8-2e53-4113-869e-a59915afbaa7",
   "metadata": {},
   "outputs": [],
   "source": [
    "### *** Redis ***"
   ]
  },
  {
   "cell_type": "code",
   "execution_count": 112,
   "id": "671b0ada-1168-4795-86f5-56942f35c22e",
   "metadata": {},
   "outputs": [],
   "source": [
    "# Redis Connection\n",
    "redis_conn = redis.StrictRedis(host='localhost', port=6379, db=0)\n",
    "#Connected with Docker also."
   ]
  },
  {
   "cell_type": "code",
   "execution_count": 108,
   "id": "a7c78d4a-7275-4e46-aa34-4df493366f1a",
   "metadata": {},
   "outputs": [
    {
     "data": {
      "text/html": [
       "<div>\n",
       "<style scoped>\n",
       "    .dataframe tbody tr th:only-of-type {\n",
       "        vertical-align: middle;\n",
       "    }\n",
       "\n",
       "    .dataframe tbody tr th {\n",
       "        vertical-align: top;\n",
       "    }\n",
       "\n",
       "    .dataframe thead th {\n",
       "        text-align: right;\n",
       "    }\n",
       "</style>\n",
       "<table border=\"1\" class=\"dataframe\">\n",
       "  <thead>\n",
       "    <tr style=\"text-align: right;\">\n",
       "      <th></th>\n",
       "      <th>Product_ID</th>\n",
       "      <th>Product_Name</th>\n",
       "      <th>Category</th>\n",
       "      <th>Price</th>\n",
       "      <th>Description</th>\n",
       "      <th>Embedding</th>\n",
       "    </tr>\n",
       "  </thead>\n",
       "  <tbody>\n",
       "    <tr>\n",
       "      <th>0</th>\n",
       "      <td>000001</td>\n",
       "      <td>Wonderful Tale and Unforgettable Story</td>\n",
       "      <td>Books</td>\n",
       "      <td>127</td>\n",
       "      <td>Classic fiction book for everyone.</td>\n",
       "      <td>[-0.008416999131441116, 0.03524068370461464, 0...</td>\n",
       "    </tr>\n",
       "    <tr>\n",
       "      <th>1</th>\n",
       "      <td>000002</td>\n",
       "      <td>Unforgettable Journey for Mysterious Saga</td>\n",
       "      <td>Books</td>\n",
       "      <td>166</td>\n",
       "      <td>Comprehensive history book for adults.</td>\n",
       "      <td>[-0.007291584275662899, 0.02718379721045494, 0...</td>\n",
       "    </tr>\n",
       "    <tr>\n",
       "      <th>2</th>\n",
       "      <td>000003</td>\n",
       "      <td>Mysterious Story of Classic Adventure</td>\n",
       "      <td>Books</td>\n",
       "      <td>171</td>\n",
       "      <td>Detailed fantasy book for everyone.</td>\n",
       "      <td>[-0.016391141340136528, 0.02698318101465702, 0...</td>\n",
       "    </tr>\n",
       "    <tr>\n",
       "      <th>3</th>\n",
       "      <td>000004</td>\n",
       "      <td>Wonderful Quest for Unforgettable Saga</td>\n",
       "      <td>Books</td>\n",
       "      <td>7</td>\n",
       "      <td>Amazing fantasy book for adults.</td>\n",
       "      <td>[0.025390397757291794, 0.027749400585889816, 0...</td>\n",
       "    </tr>\n",
       "    <tr>\n",
       "      <th>4</th>\n",
       "      <td>000005</td>\n",
       "      <td>Wonderful Journey for Brilliant Chronicles</td>\n",
       "      <td>Books</td>\n",
       "      <td>150</td>\n",
       "      <td>Comprehensive non-fiction book for kids.</td>\n",
       "      <td>[-0.0216752290725708, -0.017193501815199852, 0...</td>\n",
       "    </tr>\n",
       "  </tbody>\n",
       "</table>\n",
       "</div>"
      ],
      "text/plain": [
       "  Product_ID                                Product_Name Category  Price  \\\n",
       "0     000001      Wonderful Tale and Unforgettable Story    Books    127   \n",
       "1     000002   Unforgettable Journey for Mysterious Saga    Books    166   \n",
       "2     000003       Mysterious Story of Classic Adventure    Books    171   \n",
       "3     000004      Wonderful Quest for Unforgettable Saga    Books      7   \n",
       "4     000005  Wonderful Journey for Brilliant Chronicles    Books    150   \n",
       "\n",
       "                                Description  \\\n",
       "0        Classic fiction book for everyone.   \n",
       "1    Comprehensive history book for adults.   \n",
       "2       Detailed fantasy book for everyone.   \n",
       "3          Amazing fantasy book for adults.   \n",
       "4  Comprehensive non-fiction book for kids.   \n",
       "\n",
       "                                           Embedding  \n",
       "0  [-0.008416999131441116, 0.03524068370461464, 0...  \n",
       "1  [-0.007291584275662899, 0.02718379721045494, 0...  \n",
       "2  [-0.016391141340136528, 0.02698318101465702, 0...  \n",
       "3  [0.025390397757291794, 0.027749400585889816, 0...  \n",
       "4  [-0.0216752290725708, -0.017193501815199852, 0...  "
      ]
     },
     "execution_count": 108,
     "metadata": {},
     "output_type": "execute_result"
    }
   ],
   "source": [
    "df.head()"
   ]
  },
  {
   "cell_type": "code",
   "execution_count": 114,
   "id": "0b218e6e-3daa-4594-b771-1d9e96c2165a",
   "metadata": {},
   "outputs": [
    {
     "data": {
      "text/plain": [
       "True"
      ]
     },
     "execution_count": 114,
     "metadata": {},
     "output_type": "execute_result"
    }
   ],
   "source": [
    "redis_conn.flushall()\n",
    "# for connection control"
   ]
  },
  {
   "cell_type": "code",
   "execution_count": 116,
   "id": "0e168b9e-d92b-4959-9fb1-4f2c0f661bf9",
   "metadata": {},
   "outputs": [
    {
     "name": "stdout",
     "output_type": "stream",
     "text": [
      "Data added.\n"
     ]
    }
   ],
   "source": [
    "np.random.seed(0)  # for random vectors\n",
    "\n",
    "# adding df to Redis\n",
    "for index, row in df.iterrows():\n",
    "    Product_ID = row['Product_ID']\n",
    "    Product_Name = row['Product_Name']\n",
    "    Category = row['Category']\n",
    "    Price = row['Price']\n",
    "    Description = row['Description']\n",
    "    vector = row['Embedding']\n",
    "\n",
    "    # Encoding vector in base64 format. \n",
    "    vector_base64 = base64.b64encode(pickle.dumps(vector)).decode('utf-8')\n",
    "\n",
    "    # Adding data in hash format.\n",
    "    redis_conn.hset(f\"product:{Product_ID}\", \"Product_Name\", Product_Name)\n",
    "    redis_conn.hset(f\"product:{Product_ID}\", \"Category\", Category)\n",
    "    redis_conn.hset(f\"product:{Product_ID}\", \"Price\", Price)\n",
    "    redis_conn.hset(f\"product:{Product_ID}\", \"Description\", Description)\n",
    "    redis_conn.hset(f\"product:{Product_ID}\", \"Product_vector\", vector_base64)\n",
    "\n",
    "print(\"Data added.\")"
   ]
  },
  {
   "cell_type": "code",
   "execution_count": 138,
   "id": "4e9da168-176b-4118-a01e-04547792975b",
   "metadata": {},
   "outputs": [
    {
     "name": "stdout",
     "output_type": "stream",
     "text": [
      "{'Product_ID': 'Unknown', 'Product_Name': 'Enigmatic Quest for Unforgettable Chronicles', 'Product_Description': 'No Description', 'Product_Price': 0.0, 'Similarity': 0.0879556342527879}\n",
      "{'Product_ID': 'Unknown', 'Product_Name': 'Enigmatic Journey in Charming Journey', 'Product_Description': 'No Description', 'Product_Price': 0.0, 'Similarity': 0.0879556342527879}\n",
      "{'Product_ID': 'Unknown', 'Product_Name': 'Unforgettable Story in Charming Chronicles', 'Product_Description': 'No Description', 'Product_Price': 0.0, 'Similarity': 0.0879556342527879}\n",
      "{'Product_ID': 'Unknown', 'Product_Name': 'Brilliant Tale in Enigmatic Saga', 'Product_Description': 'No Description', 'Product_Price': 0.0, 'Similarity': 0.0879556342527879}\n",
      "{'Product_ID': 'Unknown', 'Product_Name': 'Unforgettable Saga for Classic Saga', 'Product_Description': 'No Description', 'Product_Price': 0.0, 'Similarity': 0.0879556342527879}\n",
      "{'Product_ID': 'Unknown', 'Product_Name': 'Charming Tale and Brilliant Chronicles', 'Product_Description': 'No Description', 'Product_Price': 0.0, 'Similarity': 0.0879556342527879}\n",
      "{'Product_ID': 'Unknown', 'Product_Name': 'Brilliant Chronicles and Mysterious Quest', 'Product_Description': 'No Description', 'Product_Price': 0.0, 'Similarity': 0.0879556342527879}\n",
      "{'Product_ID': 'Unknown', 'Product_Name': 'Enigmatic Journey in Classic Journey', 'Product_Description': 'No Description', 'Product_Price': 0.0, 'Similarity': 0.0879556342527879}\n",
      "{'Product_ID': 'Unknown', 'Product_Name': 'Enigmatic Saga of Wonderful Journey', 'Product_Description': 'No Description', 'Product_Price': 0.0, 'Similarity': 0.0879556342527879}\n",
      "{'Product_ID': 'Unknown', 'Product_Name': 'Classic Adventure of Enigmatic Tale', 'Product_Description': 'No Description', 'Product_Price': 0.0, 'Similarity': 0.0879556342527879}\n"
     ]
    }
   ],
   "source": [
    "#redis_conn = redis.StrictRedis(host='localhost', port=6379, db=0)\n",
    "\n",
    "query_vector = np.random.rand(384).reshape(1, -1)\n",
    "\n",
    "# get all info from Redis\n",
    "product_ids = redis_conn.keys(\"product:*\")\n",
    "similarities = []\n",
    "\n",
    "for product_id in product_ids:\n",
    "    \n",
    "    product_info = redis_conn.hgetall(product_id)\n",
    "\n",
    "    \n",
    "    product_vector_base64 = product_info.get(b'Product_vector')\n",
    "    if product_vector_base64:\n",
    "        \n",
    "        product_vector = pickle.loads(base64.b64decode(product_vector_base64))\n",
    "\n",
    "        # İif vector type is list we can convert it to the numpy array.\n",
    "        if isinstance(product_vector, list):\n",
    "            product_vector = np.array(product_vector)\n",
    "        \n",
    "        product_vector_2d = product_vector.reshape(1, -1)\n",
    "        \n",
    "        # Cosine Similarity\n",
    "        similarity = cosine_similarity(query_vector, product_vector_2d)[0][0]\n",
    "\n",
    "        \n",
    "        product_id_value = product_info.get(b'Product_ID')\n",
    "        product_name = product_info.get(b'Product_Name')\n",
    "        product_description = product_info.get(b'Product_Description')\n",
    "        product_price = product_info.get(b'Product_Price')\n",
    "\n",
    "        # \"Unknown\" for null keys.\n",
    "        similarities.append({\n",
    "            \"Product_ID\": product_id_value.decode('utf-8') if product_id_value else \"Unknown\",\n",
    "            \"Product_Name\": product_name.decode('utf-8') if product_name else \"Unknown\",\n",
    "            \"Product_Description\": product_description.decode('utf-8') if product_description else \"No Description\",\n",
    "            \"Product_Price\": float(product_price.decode('utf-8')) if product_price else 0.0,\n",
    "            \"Similarity\": similarity\n",
    "        })\n",
    "\n",
    "\n",
    "sorted_similarities = sorted(similarities, key=lambda x: x[\"Similarity\"], reverse=True)\n",
    "\n",
    "\n",
    "top_10_similar_products = sorted_similarities[:10]\n",
    "\n",
    "\n",
    "for product in top_10_similar_products:\n",
    "    print(product)\n"
   ]
  },
  {
   "cell_type": "code",
   "execution_count": null,
   "id": "67656729-0402-4803-b072-4cc1e82d1123",
   "metadata": {},
   "outputs": [],
   "source": [
    "#Redis Query Optimization"
   ]
  },
  {
   "cell_type": "code",
   "execution_count": 92,
   "id": "b0e44e29-3f81-46b9-bcde-8b34117513be",
   "metadata": {},
   "outputs": [
    {
     "name": "stdout",
     "output_type": "stream",
     "text": [
      "=== Before Index Creation ===\n",
      "Query Latency: 110.8202 seconds\n",
      "Memory Usage: 11.6953 MB\n",
      "\n",
      "=== After Index Creation ===\n",
      "Query Latency: 103.6501 seconds\n",
      "Memory Usage: 4.8008 MB\n",
      "\n",
      "=== Performance Comparison ===\n",
      "Before Index Query Latency: 110.8202 seconds\n",
      "After Index Query Latency: 103.6501 seconds\n",
      "Improvement in Query Latency: 7.1701 seconds\n",
      "Before Index Memory Usage: 11.6953 MB\n",
      "After Index Memory Usage: 4.8008 MB\n",
      "Improvement in Memory Usage: 6.8945 MB\n"
     ]
    }
   ],
   "source": [
    "\n",
    "def benchmark_query_latency_and_memory(redis_conn, query_vector):\n",
    "\n",
    "    start_mem = memory_profiler.memory_usage()[0]\n",
    "    \n",
    "    start_time = time.time()\n",
    "    \n",
    "   \n",
    "    product_ids = redis_conn.keys(\"product:*\")\n",
    "    \n",
    "    similarities_Redis = []\n",
    "    \n",
    "    # Her ürünle cosine benzerliği \n",
    "    for product_id in product_ids:\n",
    "       \n",
    "        product_info = redis_conn.hgetall(product_id)\n",
    "        product_vector_base64 = product_info.get(b'product_vector')\n",
    "        \n",
    "\n",
    "        if product_vector_base64:\n",
    "            product_vector = pickle.loads(base64.b64decode(product_vector_base64))\n",
    "            \n",
    "            \n",
    "            similarity = cosine_similarity(query_vector.reshape(1, -1), product_vector.reshape(1, -1))[0][0]\n",
    "            similarities_Redis.append((product_id.decode('utf-8'), similarity))\n",
    "    \n",
    "    end_time = time.time()\n",
    "    \n",
    "    \n",
    "    end_mem = memory_profiler.memory_usage()[0]\n",
    "    \n",
    "    query_latency = end_time - start_time\n",
    "    memory_usage = end_mem - start_mem\n",
    "    \n",
    "    return query_latency, memory_usage, similarities_Redis\n",
    "\n",
    "\n",
    "def run_performance_tests():\n",
    " \n",
    "    query_vector = np.random.rand(384)  \n",
    "    \n",
    "    # **İndeks olmadan önceki test**\n",
    "    print(\"=== Before Index Creation ===\")\n",
    "    before_index_query_latency, before_index_memory_usage, before_index_similarities = benchmark_query_latency_and_memory(redis_conn, query_vector)\n",
    "    print(f\"Query Latency: {before_index_query_latency:.4f} seconds\")\n",
    "    print(f\"Memory Usage: {before_index_memory_usage:.4f} MB\")\n",
    "    \n",
    "\n",
    "    \n",
    "    # **İndeks sonrası test** (Veritabanındaki verileri güncelledikten sonra tekrar test edebiliriz)\n",
    "    print(\"\\n=== After Index Creation ===\")\n",
    "    after_index_query_latency, after_index_memory_usage, after_index_similarities = benchmark_query_latency_and_memory(redis_conn, query_vector)\n",
    "    print(f\"Query Latency: {after_index_query_latency:.4f} seconds\")\n",
    "    print(f\"Memory Usage: {after_index_memory_usage:.4f} MB\")\n",
    "    \n",
    "    # Sonuçları karşılaştırma\n",
    "    print(\"\\n=== Performance Comparison ===\")\n",
    "    print(f\"Before Index Query Latency: {before_index_query_latency:.4f} seconds\")\n",
    "    print(f\"After Index Query Latency: {after_index_query_latency:.4f} seconds\")\n",
    "    print(f\"Improvement in Query Latency: {before_index_query_latency - after_index_query_latency:.4f} seconds\")\n",
    "    \n",
    "    print(f\"Before Index Memory Usage: {before_index_memory_usage:.4f} MB\")\n",
    "    print(f\"After Index Memory Usage: {after_index_memory_usage:.4f} MB\")\n",
    "    print(f\"Improvement in Memory Usage: {before_index_memory_usage - after_index_memory_usage:.4f} MB\")\n",
    "\n",
    "# Testi çalıştırma\n",
    "run_performance_tests()\n"
   ]
  },
  {
   "cell_type": "code",
   "execution_count": null,
   "id": "1c41fdff-04c8-4021-a5b9-2d002e3d25ae",
   "metadata": {},
   "outputs": [],
   "source": [
    "#####  - Test scenarios:   #####\n",
    "#   Faceted search with varying numbers of filters\n",
    "#   Combined vector and faceted search\n",
    "#   Running each test at least 100 times to get statistically significant results"
   ]
  },
  {
   "cell_type": "code",
   "execution_count": null,
   "id": "9f2f89b0-6c6f-445e-93b3-bc1ecaf21bee",
   "metadata": {},
   "outputs": [],
   "source": [
    "###  duckDB   ###"
   ]
  },
  {
   "cell_type": "code",
   "execution_count": 140,
   "id": "fa9c7ad0-781b-4cc0-8bda-23f021fb2887",
   "metadata": {},
   "outputs": [],
   "source": [
    "conn = duckdb.connect('Products_V1.db') "
   ]
  },
  {
   "cell_type": "code",
   "execution_count": 148,
   "id": "2d37a8fa-50b0-4408-835b-174bf6193cf4",
   "metadata": {},
   "outputs": [],
   "source": [
    "def faceted_search_test(filters, num_runs=100):\n",
    "    query = \"SELECT Product_ID, Product_Name, Price FROM Products_V1 WHERE 1=1\"\n",
    "    \n",
    "    # Adding filter\n",
    "    for filter_key, filter_value in filters.items():\n",
    "        query += f\" AND {filter_key} = '{filter_value}'\"\n",
    "\n",
    "    # running test for 100 times\n",
    "    start_time = time.time()\n",
    "    for _ in range(num_runs):\n",
    "        conn.execute(query)\n",
    "    end_time = time.time()\n",
    "\n",
    "    duration = (end_time - start_time) / num_runs  # Ortalama süre\n",
    "    return duration\n"
   ]
  },
  {
   "cell_type": "code",
   "execution_count": 150,
   "id": "b1b4ea0b-c0e7-4a1d-9b4e-4b6d0d7874dd",
   "metadata": {},
   "outputs": [
    {
     "name": "stdout",
     "output_type": "stream",
     "text": [
      "Avg Time for 1 filter: 0.002622687816619873 seconds\n",
      "Avg Time for 2 filters: 0.0007976007461547852 seconds\n",
      "Avg Time for 3 filters: 0.0006210565567016602 seconds\n"
     ]
    }
   ],
   "source": [
    "# test with one filter\n",
    "filters_1 = {\"Category\": \"Books\"}\n",
    "avg_time_1_filter = faceted_search_test(filters_1)\n",
    "print(f\"Avg Time for 1 filter: {avg_time_1_filter} seconds\")\n",
    "\n",
    "# test with two filters\n",
    "filters_2 = {\"Category\": \"Books\", \"Price\": \"50\"}\n",
    "avg_time_2_filters = faceted_search_test(filters_2)\n",
    "print(f\"Avg Time for 2 filters: {avg_time_2_filters} seconds\")\n",
    "\n",
    "# test with three filters\n",
    "filters_3 = {\"Category\": \"Books\", \"Price\": \"50\", \"Description\": \"Description_1\"}\n",
    "avg_time_3_filters = faceted_search_test(filters_3)\n",
    "print(f\"Avg Time for 3 filters: {avg_time_3_filters} seconds\")\n"
   ]
  },
  {
   "cell_type": "code",
   "execution_count": 152,
   "id": "f6d7e3db-090a-468f-8125-e8a6d41f9873",
   "metadata": {},
   "outputs": [],
   "source": [
    "def combined_vector_and_faceted_search(query_vector, filters, num_runs=100):\n",
    "    query = \"SELECT Product_ID, Product_Name, Price, product_vector FROM Products_V1 WHERE 1=1\"\n",
    "    \n",
    "   \n",
    "    for filter_key, filter_value in filters.items():\n",
    "        query += f\" AND {filter_key} = '{filter_value}'\"\n",
    "\n",
    "   \n",
    "    start_time = time.time()\n",
    "    for _ in range(num_runs):\n",
    "        results = conn.execute(query).fetchall()\n",
    "        \n",
    "        \n",
    "        similarities = []\n",
    "        for row in results:\n",
    "            product_vector = np.frombuffer(row[3], dtype=np.float32).reshape(1, -1)\n",
    "            similarity = cosine_similarity(query_vector, product_vector)[0][0]\n",
    "            similarities.append((row[0], similarity))\n",
    "        \n",
    "        similarities.sort(key=lambda x: x[1], reverse=True)\n",
    "    end_time = time.time()\n",
    "\n",
    "    duration = (end_time - start_time) / num_runs  \n",
    "    return duration\n"
   ]
  },
  {
   "cell_type": "code",
   "execution_count": 154,
   "id": "d0320c45-9a6b-4a4a-88ab-702333adedb8",
   "metadata": {},
   "outputs": [
    {
     "name": "stdout",
     "output_type": "stream",
     "text": [
      "Avg Time for 1 filter with vector: 0.002708101272583008 seconds\n",
      "Avg Time for 2 filters with vector: 0.0006314802169799804 seconds\n"
     ]
    }
   ],
   "source": [
    "query_vector = np.random.rand(384).reshape(1, -1)\n",
    "\n",
    "#testing with one filter and vector search\n",
    "filters_1 = {\"Category\": \"Category_A\"}\n",
    "avg_time_combined_1 = combined_vector_and_faceted_search(query_vector, filters_1)\n",
    "print(f\"Avg Time for 1 filter with vector: {avg_time_combined_1} seconds\")\n",
    "\n",
    "#testing with two filters and vector search\n",
    "filters_2 = {\"Category\": \"Category_A\", \"Price\": \"50\"}\n",
    "avg_time_combined_2 = combined_vector_and_faceted_search(query_vector, filters_2)\n",
    "print(f\"Avg Time for 2 filters with vector: {avg_time_combined_2} seconds\")\n"
   ]
  },
  {
   "cell_type": "code",
   "execution_count": 156,
   "id": "32be5d8d-ceb9-4f26-aec5-2059ded9a242",
   "metadata": {},
   "outputs": [
    {
     "data": {
      "image/png": "[encoded data removed]",
      "text/plain": [
       "<Figure size 640x480 with 1 Axes>"
      ]
     },
     "metadata": {},
     "output_type": "display_data"
    }
   ],
   "source": [
    "filters = [1, 2, 3]\n",
    "times = [avg_time_1_filter, avg_time_2_filters, avg_time_3_filters]\n",
    "\n",
    "plt.plot(filters, times, marker='o')\n",
    "plt.title(\"Faceted Search with Varying Number of Filters\")\n",
    "plt.xlabel(\"Number of Filters\")\n",
    "plt.ylabel(\"Avg Query Time (seconds)\")\n",
    "plt.show()\n"
   ]
  },
  {
   "cell_type": "code",
   "execution_count": 158,
   "id": "fdecd80f-f2fe-48e7-935c-b75d06c0f8bf",
   "metadata": {},
   "outputs": [
    {
     "name": "stdout",
     "output_type": "stream",
     "text": [
      "Mean: 0.0013471150398254395\n",
      "Standard Deviation: 0.0009048411994678815\n",
      "Median: 0.0007976007461547852\n"
     ]
    }
   ],
   "source": [
    "def statistical_analysis(times):\n",
    "    print(f\"Mean: {np.mean(times)}\")\n",
    "    print(f\"Standard Deviation: {np.std(times)}\")\n",
    "    print(f\"Median: {np.median(times)}\")\n",
    "\n",
    "times = [avg_time_1_filter, avg_time_2_filters, avg_time_3_filters]\n",
    "statistical_analysis(times)\n"
   ]
  },
  {
   "cell_type": "code",
   "execution_count": null,
   "id": "3c249427-3d06-41b8-a757-b9f57914e11f",
   "metadata": {},
   "outputs": [],
   "source": []
  },
  {
   "cell_type": "code",
   "execution_count": null,
   "id": "9f758812-35dd-41bf-adce-3719ab02a432",
   "metadata": {},
   "outputs": [],
   "source": []
  },
  {
   "cell_type": "code",
   "execution_count": null,
   "id": "2eab3845-31b9-409a-a817-8be1fb11e570",
   "metadata": {},
   "outputs": [],
   "source": [
    "### Redis ###"
   ]
  },
  {
   "cell_type": "code",
   "execution_count": 175,
   "id": "cad1fd55-3277-4e56-8738-b6d793d0500f",
   "metadata": {},
   "outputs": [],
   "source": [
    "def faceted_search_test(filters, num_runs=100):\n",
    "\n",
    "    product_keys = redis_conn.keys(\"product:*\") \n",
    "    \n",
    "   \n",
    "    filtered_product_ids = []\n",
    "\n",
    "    start_time = time.time()\n",
    "    \n",
    "    for _ in range(num_runs):\n",
    "\n",
    "        for product_key in product_keys:\n",
    "            product_info = redis_conn.hgetall(product_key)\n",
    "\n",
    "            \n",
    "            if not product_info:\n",
    "                continue\n",
    "            \n",
    "\n",
    "            match = True\n",
    "            for filter_key, filter_value in filters.items():\n",
    "                if product_info.get(filter_key.encode()) != filter_value.encode():\n",
    "                    match = False\n",
    "                    break \n",
    "                \n",
    "\n",
    "            if match and b'Product_ID' in product_info:\n",
    "                product_id = product_info.get(b'Product_ID')\n",
    "                if product_id:  \n",
    "                    filtered_product_ids.append(product_id.decode('utf-8'))\n",
    "    \n",
    "    end_time = time.time()\n",
    "    duration = (end_time - start_time) / num_runs \n",
    "    return duration\n",
    "\n"
   ]
  },
  {
   "cell_type": "code",
   "execution_count": 177,
   "id": "14879290-8c6d-4c52-be8a-e66be78ba301",
   "metadata": {
    "collapsed": true,
    "jupyter": {
     "outputs_hidden": true
    }
   },
   "outputs": [
    {
     "name": "stderr",
     "output_type": "stream",
     "text": [
      "\n",
      "KeyboardInterrupt\n",
      "\n"
     ]
    }
   ],
   "source": [
    "\n",
    "filters_1 = {\"Category\": \"Books\"}\n",
    "avg_time_1_filter = faceted_search_test(filters_1)\n",
    "print(f\"Avg Time for 1 filter: {avg_time_1_filter} seconds\")\n",
    "\n",
    "\n",
    "filters_2 = {\"Category\": \"Books\", \"Price\": \"50\"}\n",
    "avg_time_2_filters = faceted_search_test(filters_2)\n",
    "print(f\"Avg Time for 2 filters: {avg_time_2_filters} seconds\")\n",
    "\n",
    "filters_3 = {\"Category\": \"Books\", \"Price\": \"50\", \"Description\": \"Description_1\"}\n",
    "avg_time_3_filters = faceted_search_test(filters_3)\n",
    "print(f\"Avg Time for 3 filters: {avg_time_3_filters} seconds\")"
   ]
  },
  {
   "cell_type": "code",
   "execution_count": null,
   "id": "5a727552-9f0d-4b54-af9b-eedd676f620b",
   "metadata": {},
   "outputs": [],
   "source": [
    "\n",
    "def statistical_analysis(times):\n",
    "    print(f\"Mean: {np.mean(times)}\")\n",
    "    print(f\"Standard Deviation: {np.std(times)}\")\n",
    "    print(f\"Median: {np.median(times)}\")\n",
    "\n",
    "\n",
    "times = [avg_time_1_filter, avg_time_2_filters, avg_time_3_filters]\n",
    "\n",
    "\n",
    "statistical_analysis(times)\n"
   ]
  },
  {
   "cell_type": "code",
   "execution_count": null,
   "id": "2ca2aa73-b467-41e6-a5d1-f09f63bb3c03",
   "metadata": {},
   "outputs": [],
   "source": []
  }
 ],
 "metadata": {
  "kernelspec": {
   "display_name": "Python 3 (ipykernel)",
   "language": "python",
   "name": "python3"
  },
  "language_info": {
   "codemirror_mode": {
    "name": "ipython",
    "version": 3
   },
   "file_extension": ".py",
   "mimetype": "text/x-python",
   "name": "python",
   "nbconvert_exporter": "python",
   "pygments_lexer": "ipython3",
   "version": "3.11.7"
  }
 },
 "nbformat": 4,
 "nbformat_minor": 5
}
